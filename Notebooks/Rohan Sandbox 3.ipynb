{
 "cells": [
  {
   "cell_type": "code",
   "execution_count": 1,
   "id": "cbb196ab-37bf-4ee1-9354-35802c0c36e7",
   "metadata": {},
   "outputs": [],
   "source": [
    "import re\n",
    "import os\n",
    "import pandas as pd"
   ]
  },
  {
   "cell_type": "code",
   "execution_count": 2,
   "id": "8a70ff96-df6b-4104-ba0e-cfff0207bc0c",
   "metadata": {},
   "outputs": [],
   "source": [
    "df_augmented = pd.DataFrame({})\n",
    "df_augmented['train'] = os.listdir('/Users/rohan/Downloads/final_dataset/final_dataset/train/')"
   ]
  },
  {
   "cell_type": "code",
   "execution_count": 3,
   "id": "d11cd816-4d47-4457-b4d5-69f94963d03b",
   "metadata": {},
   "outputs": [],
   "source": [
    "df = pd.read_csv('../Data/Final/Final Complete Dataset.csv')"
   ]
  },
  {
   "cell_type": "code",
   "execution_count": 13,
   "id": "2b166ab7-fa49-47ab-b749-87f605df4eed",
   "metadata": {},
   "outputs": [],
   "source": [
    "# Extract base image names from matched results for merging purposes\n",
    "base_train_images = [re.sub(r'^([a-z]+_)+', '', name) for name in df_augmented['train']]\n",
    "\n",
    "# Creating a DataFrame from filtered train image names and their base names\n",
    "matched_df = pd.DataFrame({\n",
    "    'skincap_file_path': df_augmented['train'],\n",
    "    'base_image_name': base_train_images\n",
    "})\n",
    "\n",
    "df = df[df['skincap_file_path'].isin(base_train_images)]\n"
   ]
  },
  {
   "cell_type": "code",
   "execution_count": 9,
   "id": "8b508ad1-dadd-43e7-99c4-1639309c980b",
   "metadata": {},
   "outputs": [
    {
     "data": {
      "text/html": [
       "<div>\n",
       "<style scoped>\n",
       "    .dataframe tbody tr th:only-of-type {\n",
       "        vertical-align: middle;\n",
       "    }\n",
       "\n",
       "    .dataframe tbody tr th {\n",
       "        vertical-align: top;\n",
       "    }\n",
       "\n",
       "    .dataframe thead th {\n",
       "        text-align: right;\n",
       "    }\n",
       "</style>\n",
       "<table border=\"1\" class=\"dataframe\">\n",
       "  <thead>\n",
       "    <tr style=\"text-align: right;\">\n",
       "      <th></th>\n",
       "      <th>skincap_file_path</th>\n",
       "      <th>base_image_name</th>\n",
       "    </tr>\n",
       "  </thead>\n",
       "  <tbody>\n",
       "    <tr>\n",
       "      <th>6467</th>\n",
       "      <td>flip_3958.png</td>\n",
       "      <td>3958.png</td>\n",
       "    </tr>\n",
       "    <tr>\n",
       "      <th>4262</th>\n",
       "      <td>brid_flop_2293.png</td>\n",
       "      <td>2293.png</td>\n",
       "    </tr>\n",
       "    <tr>\n",
       "      <th>8363</th>\n",
       "      <td>satd_flip_235.png</td>\n",
       "      <td>235.png</td>\n",
       "    </tr>\n",
       "    <tr>\n",
       "      <th>499</th>\n",
       "      <td>1486.png</td>\n",
       "      <td>1486.png</td>\n",
       "    </tr>\n",
       "    <tr>\n",
       "      <th>1713</th>\n",
       "      <td>2681.png</td>\n",
       "      <td>2681.png</td>\n",
       "    </tr>\n",
       "  </tbody>\n",
       "</table>\n",
       "</div>"
      ],
      "text/plain": [
       "       skincap_file_path base_image_name\n",
       "6467       flip_3958.png        3958.png\n",
       "4262  brid_flop_2293.png        2293.png\n",
       "8363   satd_flip_235.png         235.png\n",
       "499             1486.png        1486.png\n",
       "1713            2681.png        2681.png"
      ]
     },
     "execution_count": 9,
     "metadata": {},
     "output_type": "execute_result"
    }
   ],
   "source": [
    "matched_df.sample(5)"
   ]
  },
  {
   "cell_type": "code",
   "execution_count": 18,
   "id": "cbac19d9-29c1-4fe5-9ec8-4f458ee2cda5",
   "metadata": {},
   "outputs": [
    {
     "data": {
      "text/plain": [
       "Vesicle                 155\n",
       "Macule                  142\n",
       "Nodule                  927\n",
       "Scale                  3032\n",
       "Exophytic/Fungating     198\n",
       "dtype: int64"
      ]
     },
     "execution_count": 18,
     "metadata": {},
     "output_type": "execute_result"
    }
   ],
   "source": [
    "med_annot_names = ['Vesicle', 'Macule', 'Nodule', 'Scale', 'Exophytic/Fungating']\n",
    "column_sum = df[med_annot_names].sum()\n",
    "column_sum"
   ]
  },
  {
   "cell_type": "code",
   "execution_count": 59,
   "id": "be7ca5bb-50fb-4757-bb3d-862db6170268",
   "metadata": {},
   "outputs": [],
   "source": [
    "not_required_list = df_augmented[~df_augmented['train'].isin(df_original['train'])]['train']"
   ]
  },
  {
   "cell_type": "code",
   "execution_count": 7,
   "id": "9169c511-15c8-401e-be51-7c326272e038",
   "metadata": {},
   "outputs": [
    {
     "data": {
      "text/plain": [
       "2203"
      ]
     },
     "execution_count": 7,
     "metadata": {},
     "output_type": "execute_result"
    }
   ],
   "source": [
    "len(not_required_list)"
   ]
  },
  {
   "cell_type": "code",
   "execution_count": 6,
   "id": "76c38a7c-275a-4c6a-a972-e1490e4dabcf",
   "metadata": {},
   "outputs": [],
   "source": [
    "pattern = '|'.join([f'([a-z]+_)+{re.escape(filename)}|^{re.escape(filename)}' for filename in not_required_list])"
   ]
  },
  {
   "cell_type": "code",
   "execution_count": 8,
   "id": "bec72351-85f7-4488-873c-acd7ba63a14a",
   "metadata": {},
   "outputs": [],
   "source": [
    "regex = re.compile(pattern)"
   ]
  },
  {
   "cell_type": "code",
   "execution_count": 9,
   "id": "70219226-dca5-4859-b2ee-b867182e00dd",
   "metadata": {},
   "outputs": [],
   "source": [
    "matched_files = [file for file in os.listdir('/Users/rohan/Downloads/final_dataset/final_dataset/train/') if regex.match(file)]"
   ]
  },
  {
   "cell_type": "code",
   "execution_count": 10,
   "id": "e6d0685d-267a-433f-b800-2f2d8c0386d9",
   "metadata": {},
   "outputs": [
    {
     "data": {
      "text/plain": [
       "7071"
      ]
     },
     "execution_count": 10,
     "metadata": {},
     "output_type": "execute_result"
    }
   ],
   "source": [
    "len(matched_files)"
   ]
  },
  {
   "cell_type": "markdown",
   "id": "c511bef1-9726-4ed2-9324-39ad6e01ebb1",
   "metadata": {},
   "source": [
    "# Delete the matched files\n",
    "for file in matched_files:\n",
    "    file_path = os.path.join('/Users/rohan/Downloads/final_dataset/final_dataset/train/', file)\n",
    "    try:\n",
    "        #os.remove(file_path)\n",
    "        print(f\"Deleted: {file_path}\")\n",
    "    except Exception as e:\n",
    "        print(f\"Error deleting {file_path}: {e}\")"
   ]
  }
 ],
 "metadata": {
  "kernelspec": {
   "display_name": "Python 3 (ipykernel)",
   "language": "python",
   "name": "python3"
  },
  "language_info": {
   "codemirror_mode": {
    "name": "ipython",
    "version": 3
   },
   "file_extension": ".py",
   "mimetype": "text/x-python",
   "name": "python",
   "nbconvert_exporter": "python",
   "pygments_lexer": "ipython3",
   "version": "3.11.7"
  }
 },
 "nbformat": 4,
 "nbformat_minor": 5
}
