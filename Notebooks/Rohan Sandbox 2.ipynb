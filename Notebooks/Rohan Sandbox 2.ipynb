{
 "cells": [
  {
   "cell_type": "code",
   "execution_count": 1,
   "id": "cbb196ab-37bf-4ee1-9354-35802c0c36e7",
   "metadata": {},
   "outputs": [],
   "source": [
    "import re\n",
    "import os\n",
    "import pandas as pd"
   ]
  },
  {
   "cell_type": "code",
   "execution_count": 2,
   "id": "8a70ff96-df6b-4104-ba0e-cfff0207bc0c",
   "metadata": {},
   "outputs": [],
   "source": [
    "df_augmented = pd.DataFrame({})\n",
    "df_augmented['train'] = [file for file in os.listdir('/Users/rohan/Downloads/final_dataset/final_dataset/train/') if re.search(r'^\\d+', file)]"
   ]
  },
  {
   "cell_type": "code",
   "execution_count": 3,
   "id": "2b166ab7-fa49-47ab-b749-87f605df4eed",
   "metadata": {},
   "outputs": [],
   "source": [
    "df_original = pd.DataFrame({})\n",
    "df_original['train'] = pd.read_csv('../Data/Final/img_train.csv')['skincap_file_path']"
   ]
  },
  {
   "cell_type": "code",
   "execution_count": 4,
   "id": "ed2bc385-b7dd-4207-8fd3-72fca3d36bfc",
   "metadata": {},
   "outputs": [
    {
     "data": {
      "text/plain": [
       "2426"
      ]
     },
     "execution_count": 4,
     "metadata": {},
     "output_type": "execute_result"
    }
   ],
   "source": [
    "len(df_original)"
   ]
  },
  {
   "cell_type": "code",
   "execution_count": 59,
   "id": "be7ca5bb-50fb-4757-bb3d-862db6170268",
   "metadata": {},
   "outputs": [],
   "source": [
    "not_required_list = df_augmented[~df_augmented['train'].isin(df_original['train'])]['train']"
   ]
  },
  {
   "cell_type": "code",
   "execution_count": 7,
   "id": "9169c511-15c8-401e-be51-7c326272e038",
   "metadata": {},
   "outputs": [
    {
     "data": {
      "text/plain": [
       "2203"
      ]
     },
     "execution_count": 7,
     "metadata": {},
     "output_type": "execute_result"
    }
   ],
   "source": [
    "len(not_required_list)"
   ]
  },
  {
   "cell_type": "code",
   "execution_count": 6,
   "id": "76c38a7c-275a-4c6a-a972-e1490e4dabcf",
   "metadata": {},
   "outputs": [],
   "source": [
    "pattern = '|'.join([f'([a-z]+_)+{re.escape(filename)}|^{re.escape(filename)}' for filename in not_required_list])"
   ]
  },
  {
   "cell_type": "code",
   "execution_count": 8,
   "id": "bec72351-85f7-4488-873c-acd7ba63a14a",
   "metadata": {},
   "outputs": [],
   "source": [
    "regex = re.compile(pattern)"
   ]
  },
  {
   "cell_type": "code",
   "execution_count": 9,
   "id": "70219226-dca5-4859-b2ee-b867182e00dd",
   "metadata": {},
   "outputs": [],
   "source": [
    "matched_files = [file for file in os.listdir('/Users/rohan/Downloads/final_dataset/final_dataset/train/') if regex.match(file)]"
   ]
  },
  {
   "cell_type": "code",
   "execution_count": 10,
   "id": "e6d0685d-267a-433f-b800-2f2d8c0386d9",
   "metadata": {},
   "outputs": [
    {
     "data": {
      "text/plain": [
       "7071"
      ]
     },
     "execution_count": 10,
     "metadata": {},
     "output_type": "execute_result"
    }
   ],
   "source": [
    "len(matched_files)"
   ]
  },
  {
   "cell_type": "markdown",
   "id": "c511bef1-9726-4ed2-9324-39ad6e01ebb1",
   "metadata": {},
   "source": [
    "# Delete the matched files\n",
    "for file in matched_files:\n",
    "    file_path = os.path.join('/Users/rohan/Downloads/final_dataset/final_dataset/train/', file)\n",
    "    try:\n",
    "        #os.remove(file_path)\n",
    "        print(f\"Deleted: {file_path}\")\n",
    "    except Exception as e:\n",
    "        print(f\"Error deleting {file_path}: {e}\")"
   ]
  }
 ],
 "metadata": {
  "kernelspec": {
   "display_name": "Python 3 (ipykernel)",
   "language": "python",
   "name": "python3"
  },
  "language_info": {
   "codemirror_mode": {
    "name": "ipython",
    "version": 3
   },
   "file_extension": ".py",
   "mimetype": "text/x-python",
   "name": "python",
   "nbconvert_exporter": "python",
   "pygments_lexer": "ipython3",
   "version": "3.11.7"
  }
 },
 "nbformat": 4,
 "nbformat_minor": 5
}
